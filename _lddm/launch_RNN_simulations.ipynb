{
 "cells": [
  {
   "cell_type": "markdown",
   "id": "0eda4e96",
   "metadata": {},
   "source": [
    "# Launch simulations on a slurm-based cluster\n",
    "\n",
    "\n",
    "This script launches simulations on a SLURM cluster using submitit."
   ]
  },
  {
   "cell_type": "code",
   "execution_count": 2,
   "id": "33f6445d",
   "metadata": {},
   "outputs": [],
   "source": [
    "import submitit\n",
    "import os\n",
    "import numpy as np\n",
    "import matplotlib.pyplot as plt\n",
    "\n",
    "from run_RNN_pixel_simulation import run_rnn\n",
    "from reduction import compute_timecourse_zpolicy, descriptive_zpol"
   ]
  },
  {
   "cell_type": "markdown",
   "id": "58c97ede",
   "metadata": {},
   "source": [
    "## Local test runs\n",
    "\n",
    "This script can submit these long-running jobs to the cluster. However, the next two cells show how to run locally."
   ]
  },
  {
   "cell_type": "code",
   "execution_count": null,
   "id": "be77331a",
   "metadata": {},
   "outputs": [],
   "source": [
    "# Run a blob (real image) simulation localy\n",
    "data_type = 'blob'\n",
    "dt = .05 #.0005\n",
    "lr = .1\n",
    "gamma = .01\n",
    "blob_scale = 50.\n",
    "\n",
    "expt_folder = f\"rnn_sim_res_{data_type}_lr_{lr}_bs_{blob_scale}_dt{dt}_gam{gamma}\"\n",
    "exptname = f\"{expt_folder}/exp\"\n",
    "\n",
    "run_rnn(Ntrials=10000, data_type=data_type, blob_scale=blob_scale, lr=lr, dt=dt, gamma=gamma, exptname=exptname)"
   ]
  },
  {
   "cell_type": "code",
   "execution_count": null,
   "id": "2667b6ad",
   "metadata": {},
   "outputs": [],
   "source": [
    "# Run a Gaussian simulation locally\n",
    "dt = .0005\n",
    "lr=.1\n",
    "gamma = .01\n",
    "alpha=.05\n",
    "\n",
    "run_rnn(data_type='gauss', exptname='test_gauss', lr=lr, dt=dt, gamma=gamma, alpha=alpha)"
   ]
  },
  {
   "cell_type": "markdown",
   "id": "eb7c5dff",
   "metadata": {},
   "source": [
    "## Submit array jobs to cluster"
   ]
  },
  {
   "cell_type": "code",
   "execution_count": 44,
   "id": "7501c111",
   "metadata": {},
   "outputs": [],
   "source": [
    "# Submit array job to SLURM cluster for blob (real image) stimuli\n",
    "\n",
    "executor = submitit.AutoExecutor(folder=\"log_exp\")\n",
    "\n",
    "executor.update_parameters(timeout_min=2*60*100, mem_gb=5, cpus_per_task=1, slurm_partition=\"cpu\")\n",
    "\n",
    "data_type = 'blob'\n",
    "dt = .0005\n",
    "lr = .1\n",
    "gamma = .01\n",
    "alpha = .05\n",
    "blob_scale = 50.\n",
    "\n",
    "expt_folder = f\"rnn_sim_res2_{data_type}_lr_{lr}_bs_{blob_scale}_dt{dt}_gam{gamma}_al{alpha}\"\n",
    "\n",
    "if not os.path.exists(expt_folder):\n",
    "    os.makedirs(expt_folder)\n",
    "\n",
    "jobnames = []\n",
    "with executor.batch():\n",
    "    for rep in range(10):\n",
    "        exptname = f\"{expt_folder}/exp{rep}\"\n",
    "        jobnames.append(exptname)\n",
    "        job = executor.submit(run_rnn, Ntrials=10000, data_type=data_type, blob_scale=blob_scale, lr=lr, dt=dt, gamma=gamma, alpha=alpha, exptname=exptname) "
   ]
  },
  {
   "cell_type": "code",
   "execution_count": null,
   "id": "f25bf181",
   "metadata": {},
   "outputs": [],
   "source": [
    "# Submit array job to SLURM cluster for Gaussian stimuli\n",
    "\n",
    "executor = submitit.AutoExecutor(folder=\"log_exp\")\n",
    "\n",
    "executor.update_parameters(timeout_min=2*60, mem_gb=5, cpus_per_task=1, slurm_partition=\"cpu\")\n",
    "\n",
    "data_type = 'gauss'\n",
    "dt = .0005\n",
    "lr = .1\n",
    "gamma = .01\n",
    "alpha = .05\n",
    "blob_scale = 50.\n",
    "\n",
    "lr=.1\n",
    "gamma = .01\n",
    "alpha=.05\n",
    "z0 = 30.\n",
    "w0 = .0001\n",
    "\n",
    "# Dataset parameters\n",
    "co = 32\n",
    "# For theory only\n",
    "A = .82\n",
    "ci = .01\n",
    "\n",
    "\n",
    "expt_folder = f\"rnn_sim_res2_{data_type}_lr_{lr}_dt{dt}_gam{gamma}_al{alpha}\"\n",
    "\n",
    "if not os.path.exists(expt_folder):\n",
    "    os.makedirs(expt_folder)\n",
    "\n",
    "jobnames = []\n",
    "with executor.batch():\n",
    "    for rep in range(50):\n",
    "        exptname = f\"{expt_folder}/exp{rep}\"\n",
    "        jobnames.append(exptname)\n",
    "        job = executor.submit(run_rnn, Ntrials=10000, data_type=data_type, lr=lr, dt=dt, gamma=gamma, alpha=alpha, exptname=exptname) "
   ]
  },
  {
   "cell_type": "markdown",
   "id": "6cc335ef",
   "metadata": {},
   "source": [
    "When these runs are complete, the notebook 'figure_RNN_reduction_comparison.ipynb' can read and plot the resulting comparisons"
   ]
  }
 ],
 "metadata": {
  "kernelspec": {
   "display_name": "Python 3",
   "language": "python",
   "name": "python3"
  },
  "language_info": {
   "codemirror_mode": {
    "name": "ipython",
    "version": 3
   },
   "file_extension": ".py",
   "mimetype": "text/x-python",
   "name": "python",
   "nbconvert_exporter": "python",
   "pygments_lexer": "ipython3",
   "version": "3.6.13"
  }
 },
 "nbformat": 4,
 "nbformat_minor": 5
}
